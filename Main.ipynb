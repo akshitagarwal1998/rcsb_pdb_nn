{
 "cells": [
  {
   "cell_type": "code",
   "execution_count": null,
   "id": "d4b60959-ab54-4761-bd9b-548441698d77",
   "metadata": {},
   "outputs": [],
   "source": [
    "import numpy as np\n",
    "import pandas as pd\n",
    "import torch\n",
    "import matplotlib.pyplot as plt"
   ]
  },
  {
   "cell_type": "code",
   "execution_count": null,
   "id": "1d69f802-3e75-461f-877b-f84e66dca979",
   "metadata": {},
   "outputs": [],
   "source": [
    "# Load the dataset\n",
    "cath_df = pd.read_csv(\"./data/cath_moments.tsv\", sep='\\t', header=None) # For Train\n",
    "ecod_df = pd.read_csv(\"./data/ecod_moments.tsv\", sep='\\t', header=None) # For eval"
   ]
  },
  {
   "cell_type": "code",
   "execution_count": null,
   "id": "335379d8-ef5f-46a4-8133-cf786310f561",
   "metadata": {},
   "outputs": [],
   "source": [
    "cath_info = cath_df.info()"
   ]
  },
  {
   "cell_type": "code",
   "execution_count": null,
   "id": "24c44bd8-1b74-4d6d-9e61-33d0f52624f2",
   "metadata": {},
   "outputs": [],
   "source": [
    "ecod_info = ecod_df.info()"
   ]
  },
  {
   "cell_type": "code",
   "execution_count": null,
   "id": "034cea0c-61c7-4828-88f3-cff10785017f",
   "metadata": {},
   "outputs": [],
   "source": [
    "# Summarize shapes, classes, and a preview\n",
    "cath_summary = {\n",
    "    \"shape\": cath_df.shape,\n",
    "    \"unique_classes\": cath_df[0].nunique(),\n",
    "    \"class_distribution\": cath_df[0].value_counts(),\n",
    "    \"head\": cath_df.head()\n",
    "}\n",
    "\n",
    "ecod_summary = {\n",
    "    \"shape\": ecod_df.shape,\n",
    "    \"unique_classes\": ecod_df[0].nunique(),\n",
    "    \"class_distribution\": ecod_df[0].value_counts(),\n",
    "    \"head\": ecod_df.head()\n",
    "}"
   ]
  },
  {
   "cell_type": "code",
   "execution_count": null,
   "id": "7be048a6-a9b5-4f6f-ad00-74610b6db555",
   "metadata": {},
   "outputs": [],
   "source": [
    "print(cath_summary)"
   ]
  },
  {
   "cell_type": "code",
   "execution_count": null,
   "id": "de86ef59-6d9c-45c0-a371-baa5f02bff62",
   "metadata": {},
   "outputs": [],
   "source": [
    "print(ecod_summary)"
   ]
  },
  {
   "cell_type": "code",
   "execution_count": null,
   "id": "5eb992cc-9f1c-46d7-8baf-8f29af3b2b73",
   "metadata": {},
   "outputs": [],
   "source": [
    "cath_df.iloc[0]"
   ]
  },
  {
   "cell_type": "code",
   "execution_count": null,
   "id": "d5d139e8-d1cd-4e48-ae0b-3a476f9bf731",
   "metadata": {},
   "outputs": [],
   "source": [
    "for i in range(0,2):\n",
    "    print(type(cath_df.iloc[0,i]))"
   ]
  },
  {
   "cell_type": "code",
   "execution_count": null,
   "id": "bbf19f58-1186-4d6c-8d16-aeccd8ec4882",
   "metadata": {},
   "outputs": [],
   "source": [
    "# Plot class distribution for CATH\n",
    "cath_class_counts = cath_df[0].value_counts()\n",
    "plt.figure(figsize=(12, 4))\n",
    "plt.hist(cath_class_counts, bins=30, edgecolor='black')\n",
    "plt.title('Class Frequency Distribution in CATH Dataset')\n",
    "plt.xlabel('Number of proteins per class')\n",
    "plt.ylabel('Number of classes')\n",
    "plt.grid(True)\n",
    "plt.tight_layout()\n",
    "plt.show()\n",
    "\n",
    "# Plot class distribution for ECOD\n",
    "ecod_class_counts = ecod_df[0].value_counts()\n",
    "plt.figure(figsize=(12, 4))\n",
    "plt.hist(ecod_class_counts, bins=20, edgecolor='black')\n",
    "plt.title('Class Frequency Distribution in ECOD Dataset')\n",
    "plt.xlabel('Number of proteins per class')\n",
    "plt.ylabel('Number of classes')\n",
    "plt.grid(True)\n",
    "plt.tight_layout()\n",
    "plt.show()\n"
   ]
  },
  {
   "cell_type": "markdown",
   "id": "b74b42ec-a023-45bd-8134-7b4040f6df5a",
   "metadata": {},
   "source": [
    "### Visualizing Class Imbalance\n",
    "\n",
    "Each protein in the dataset is associated with a structural class label (column 0), which identifies its 3D(1D in this case) shape category. Understanding how many proteins fall into each class is critical because the dataset is not balanced—some classes have many proteins, while others have very few.\n",
    "\n",
    "To quantify this, we use `value_counts()` to compute the frequency of each class label and visualize the distribution with a histogram.\n",
    "\n",
    "#### Why this is important:\n",
    "During training, we will create pairs of proteins to determine structural similarity. If a particular class contains many proteins, it will generate significantly more pairs, which may bias the model toward frequently occurring classes. This can lead to overfitting and poor generalization, especially on underrepresented classes.\n",
    "\n",
    "By plotting the class frequency distribution:\n",
    "- We confirm whether class imbalance is present.\n",
    "- We motivate the need for sampling strategies such as `WeightedRandomSampler` to correct for this imbalance during training.\n",
    "\n",
    "This analysis is a key step in understanding the structure of the data and informing how we design the training process.\n"
   ]
  },
  {
   "cell_type": "code",
   "execution_count": null,
   "id": "1cb5cbce-9fb8-4234-b0fd-d30b6ba80a9d",
   "metadata": {},
   "outputs": [],
   "source": [
    "import sys\n",
    "import numpy as np\n",
    "\n",
    "print(\"Python version:\", sys.version)\n",
    "print(\"NumPy version:\", np.__version__)\n"
   ]
  },
  {
   "cell_type": "code",
   "execution_count": null,
   "id": "b93b9fca-47ff-4620-b460-0211f1a3617b",
   "metadata": {},
   "outputs": [],
   "source": []
  },
  {
   "cell_type": "code",
   "execution_count": null,
   "id": "338142c3-2c98-4ee9-96f2-0d9c84d40eef",
   "metadata": {},
   "outputs": [],
   "source": []
  },
  {
   "cell_type": "code",
   "execution_count": 1,
   "id": "3f1038f8-5421-4a40-9909-f5ba99dc7d64",
   "metadata": {},
   "outputs": [
    {
     "name": "stdout",
     "output_type": "stream",
     "text": [
      "[INFO] Using 12 CPU threads\n",
      "[INFO] Using 12 CPU threads\n"
     ]
    }
   ],
   "source": [
    "import pandas as pd\n",
    "import torch\n",
    "import importlib\n",
    "import train\n",
    "import dataset\n",
    "import time\n",
    "import os\n",
    "importlib.reload(train)\n",
    "importlib.reload(dataset)\n",
    "import random\n",
    "\n",
    "random.seed(42)\n",
    "\n",
    "\n",
    "from train import train_model, test_model_on_ecod"
   ]
  },
  {
   "cell_type": "code",
   "execution_count": 2,
   "id": "e2776cb5-6d19-467e-bd45-3514d3c5f6b9",
   "metadata": {},
   "outputs": [
    {
     "name": "stdout",
     "output_type": "stream",
     "text": [
      "CATH: (2685, 3923), ECOD: (761, 3923)\n"
     ]
    }
   ],
   "source": [
    "# Load datasets\n",
    "cath_df = pd.read_csv(\"./data/cath_moments.tsv\", sep='\\t', header=None).dropna(axis=1)\n",
    "ecod_df = pd.read_csv(\"./data/ecod_moments.tsv\", sep='\\t', header=None).dropna(axis=1)\n",
    "\n",
    "print(f\"CATH: {cath_df.shape}, ECOD: {ecod_df.shape}\")\n",
    "features,labels=None,None\n"
   ]
  },
  {
   "cell_type": "code",
   "execution_count": 3,
   "id": "65844a61-6755-46bc-bf35-0b2079814701",
   "metadata": {},
   "outputs": [],
   "source": [
    "num_proteins = 2685"
   ]
  },
  {
   "cell_type": "code",
   "execution_count": 4,
   "id": "d786dba6-8f87-42ee-9385-b46e76adb51b",
   "metadata": {},
   "outputs": [
    {
     "name": "stdout",
     "output_type": "stream",
     "text": [
      "Expected pairs: 3603270\n"
     ]
    }
   ],
   "source": [
    "print(\"Expected pairs:\",num_proteins*(num_proteins-1)//2)"
   ]
  },
  {
   "cell_type": "code",
   "execution_count": null,
   "id": "9061a230",
   "metadata": {},
   "outputs": [
    {
     "name": "stdout",
     "output_type": "stream",
     "text": [
      "Training on: cpu (CPU)\n",
      "[TensorBoard] Logging to: tensorboard_logs/baseline_h32_bs128_lr0.001_ep30_20250401-013606\n",
      "[INFO] Loading Dataloader\n",
      "[INFO] Initializing Streaming Dataset from DataFrame of size 2685\n",
      "[INFO] Streaming V2 init done in 0.63 seconds\n",
      "[INFO] Creating traindata with 3242943\n",
      "[INFO] Creating valdata with 360327\n",
      "Training model (hidden_dim=32) for 30 epochs...\n"
     ]
    },
    {
     "name": "stderr",
     "output_type": "stream",
     "text": [
      "/opt/anaconda3/envs/tf_keras/lib/python3.12/site-packages/torch/optim/lr_scheduler.py:62: UserWarning: The verbose parameter is deprecated. Please use get_last_lr() to access the learning rate.\n",
      "  warnings.warn(\n"
     ]
    },
    {
     "data": {
      "application/vnd.jupyter.widget-view+json": {
       "model_id": "fb569cd56d8d44059e6b39ebc65cf44a",
       "version_major": 2,
       "version_minor": 0
      },
      "text/plain": [
       "Epoch 1/30:   0%|          | 0/25336 [00:00<?, ?it/s]"
      ]
     },
     "metadata": {},
     "output_type": "display_data"
    },
    {
     "name": "stdout",
     "output_type": "stream",
     "text": [
      "Epoch 1/30 | Train Loss: 3512.7006 | Val Loss: 248.7990 | ROC AUC: 0.985 | PR AUC: 0.612 | MCC: 0.287\n"
     ]
    },
    {
     "data": {
      "application/vnd.jupyter.widget-view+json": {
       "model_id": "05c8ede31e834cef8797285e8ad2cb91",
       "version_major": 2,
       "version_minor": 0
      },
      "text/plain": [
       "Epoch 2/30:   0%|          | 0/25336 [00:00<?, ?it/s]"
      ]
     },
     "metadata": {},
     "output_type": "display_data"
    },
    {
     "name": "stdout",
     "output_type": "stream",
     "text": [
      "Epoch 2/30 | Train Loss: 3018.2108 | Val Loss: 185.9943 | ROC AUC: 0.986 | PR AUC: 0.611 | MCC: 0.327\n"
     ]
    },
    {
     "data": {
      "application/vnd.jupyter.widget-view+json": {
       "model_id": "446333e633154891b294e63ee4fc51ce",
       "version_major": 2,
       "version_minor": 0
      },
      "text/plain": [
       "Epoch 3/30:   0%|          | 0/25336 [00:00<?, ?it/s]"
      ]
     },
     "metadata": {},
     "output_type": "display_data"
    },
    {
     "name": "stdout",
     "output_type": "stream",
     "text": [
      "Epoch 3/30 | Train Loss: 2972.2143 | Val Loss: 205.3223 | ROC AUC: 0.984 | PR AUC: 0.608 | MCC: 0.307\n"
     ]
    },
    {
     "data": {
      "application/vnd.jupyter.widget-view+json": {
       "model_id": "1ab087f7d370471699a3f3451140411e",
       "version_major": 2,
       "version_minor": 0
      },
      "text/plain": [
       "Epoch 4/30:   0%|          | 0/25336 [00:00<?, ?it/s]"
      ]
     },
     "metadata": {},
     "output_type": "display_data"
    }
   ],
   "source": [
    "from weight_strategy import inverse_class_weighting\n",
    "input_dim = cath_df.shape[1]-1\n",
    "lr = 1e-3\n",
    "\n",
    "model = train_model(protein_df=cath_df.head(num_proteins), hidden_dim=32, input_dim=input_dim,batch_size=128,num_epochs=30,val_split=0.1,lr=lr)b"
   ]
  },
  {
   "cell_type": "code",
   "execution_count": null,
   "id": "e45659a5",
   "metadata": {},
   "outputs": [],
   "source": []
  },
  {
   "cell_type": "code",
   "execution_count": null,
   "id": "4e74b4e0",
   "metadata": {},
   "outputs": [],
   "source": [
    "from weight_strategy import inverse_class_weighting\n",
    "input_dim = cath_df.shape[1]-1\n",
    "lr = 1e-5\n",
    "\n",
    "model = train_model(protein_df=cath_df.head(num_proteins), hidden_dim=1024, input_dim=input_dim,batch_size=128,num_epochs=30,val_split=0.1,lr=lr)"
   ]
  },
  {
   "cell_type": "code",
   "execution_count": null,
   "id": "625bee56",
   "metadata": {},
   "outputs": [],
   "source": []
  },
  {
   "cell_type": "code",
   "execution_count": null,
   "id": "985e5ff4",
   "metadata": {},
   "outputs": [],
   "source": [
    "from weight_strategy import inverse_class_weighting\n",
    "input_dim = cath_df.shape[1]-1\n",
    "lr = 1e-3\n",
    "\n",
    "model = train_model(protein_df=cath_df.head(num_proteins), hidden_dim=32, input_dim=input_dim,batch_size=128,num_epochs=30,val_split=0.1,lr=lr)"
   ]
  },
  {
   "cell_type": "code",
   "execution_count": null,
   "id": "0c22f663",
   "metadata": {},
   "outputs": [],
   "source": [
    "#Load the best model\n",
    "import torch\n",
    "from model import ProteinClassifier\n",
    "input_dim = cath_df.shape[1]-1\n",
    "# Define your model architecture (must match the saved model)\n",
    "model = ProteinClassifier(hidden_dim=64, input_dim=input_dim)\n",
    "\n",
    "# Load saved weights\n",
    "model.load_state_dict(torch.load(\"./modelData/baseline_h64_bs128_lr0.001_ep20_20250328-041027_best.pt\", map_location=\"cpu\"))\n",
    "\n",
    "# Set model to evaluation mode\n",
    "model.eval()"
   ]
  },
  {
   "cell_type": "code",
   "execution_count": null,
   "id": "62e7861b-f8b2-409c-80f5-bc51f6055f6c",
   "metadata": {},
   "outputs": [],
   "source": [
    "test_model_on_ecod(model, ecod_df)"
   ]
  },
  {
   "cell_type": "code",
   "execution_count": null,
   "id": "9da2382c-b21f-4d58-820b-c429907c2498",
   "metadata": {},
   "outputs": [],
   "source": []
  },
  {
   "cell_type": "code",
   "execution_count": null,
   "id": "24485cf1-87ae-4fcc-bad4-b683dda63672",
   "metadata": {},
   "outputs": [],
   "source": []
  },
  {
   "cell_type": "code",
   "execution_count": null,
   "id": "6d1e258a-f9c7-45e4-b61a-758a0f00ba12",
   "metadata": {},
   "outputs": [],
   "source": []
  },
  {
   "cell_type": "code",
   "execution_count": null,
   "id": "3923ced9-f46d-4dbf-a246-4013d2f59024",
   "metadata": {},
   "outputs": [],
   "source": [
    "import pandas as pd\n",
    "import torch\n",
    "from torch.utils.data import DataLoader\n",
    "from dataset import StreamingProteinPairDataset, StreamingProteinPairDatasetV2\n",
    "import time\n",
    "import tracemalloc  # optional: for memory profiling\n",
    "\n",
    "# Load a manageable subset for testing\n",
    "df = pd.read_csv(\"data/cath_moments.tsv\", sep='\\t', header=None).dropna(axis=1).head(1000)\n",
    "\n",
    "BATCH_SIZE = 64\n",
    "\n",
    "def profile_loader(dataset_class, name=\"\"):\n",
    "    print(f\"\\n--- Profiling {name} ---\")\n",
    "\n",
    "    # Start memory profiling\n",
    "    tracemalloc.start()\n",
    "    start = time.time_ns()\n",
    "    dataset = dataset_class(df)\n",
    "    init_time_ns = time.time_ns() - start\n",
    "    current, peak = tracemalloc.get_traced_memory()\n",
    "    tracemalloc.stop()\n",
    "\n",
    "    print(f\"[{name}] Init time: {init_time_ns / 1e6:.2f} ms\")\n",
    "    print(f\"[{name}] Peak memory usage: {peak / (1024**2):.2f} MB\")\n",
    "\n",
    "    # Profile batch loading\n",
    "    loader = DataLoader(dataset, batch_size=BATCH_SIZE, num_workers=4)\n",
    "    batch_times_ns = []\n",
    "    for i, (x, y) in enumerate(loader):\n",
    "        if i >= 5:\n",
    "            break\n",
    "        t0 = time.time_ns()\n",
    "        _ = x.shape, y.shape  # simulate some access\n",
    "        t1 = time.time_ns()\n",
    "        batch_times_ns.append(t1 - t0)\n",
    "\n",
    "    if batch_times_ns:\n",
    "        avg_batch_time_ms = sum(batch_times_ns) / len(batch_times_ns) \n",
    "        print(f\"[{name}] Avg batch load time (first 5): {avg_batch_time_ms:.2f} ms\")\n",
    "    else:\n",
    "        print(f\"[{name}] No batches loaded.\")\n",
    "\n",
    "# Run profiling for both\n",
    "profile_loader(StreamingProteinPairDataset, \"Streaming v1\")\n",
    "profile_loader(StreamingProteinPairDatasetV2, \"Streaming v2\")"
   ]
  },
  {
   "cell_type": "code",
   "execution_count": null,
   "id": "7a48d6d6",
   "metadata": {},
   "outputs": [],
   "source": []
  }
 ],
 "metadata": {
  "kernelspec": {
   "display_name": "tf_keras",
   "language": "python",
   "name": "python3"
  },
  "language_info": {
   "codemirror_mode": {
    "name": "ipython",
    "version": 3
   },
   "file_extension": ".py",
   "mimetype": "text/x-python",
   "name": "python",
   "nbconvert_exporter": "python",
   "pygments_lexer": "ipython3",
   "version": "3.12.2"
  }
 },
 "nbformat": 4,
 "nbformat_minor": 5
}
