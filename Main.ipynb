{
 "cells": [
  {
   "cell_type": "code",
   "execution_count": null,
   "id": "d4b60959-ab54-4761-bd9b-548441698d77",
   "metadata": {},
   "outputs": [],
   "source": [
    "import numpy as np\n",
    "import pandas as pd\n",
    "import torch\n",
    "import matplotlib.pyplot as plt"
   ]
  },
  {
   "cell_type": "code",
   "execution_count": null,
   "id": "1d69f802-3e75-461f-877b-f84e66dca979",
   "metadata": {},
   "outputs": [],
   "source": [
    "# Load the dataset\n",
    "cath_df = pd.read_csv(\"./data/cath_moments.tsv\", sep='\\t', header=None) # For Train\n",
    "ecod_df = pd.read_csv(\"./data/ecod_moments.tsv\", sep='\\t', header=None) # For eval"
   ]
  },
  {
   "cell_type": "code",
   "execution_count": null,
   "id": "335379d8-ef5f-46a4-8133-cf786310f561",
   "metadata": {},
   "outputs": [],
   "source": [
    "cath_info = cath_df.info()"
   ]
  },
  {
   "cell_type": "code",
   "execution_count": null,
   "id": "24c44bd8-1b74-4d6d-9e61-33d0f52624f2",
   "metadata": {},
   "outputs": [],
   "source": [
    "ecod_info = ecod_df.info()"
   ]
  },
  {
   "cell_type": "code",
   "execution_count": null,
   "id": "034cea0c-61c7-4828-88f3-cff10785017f",
   "metadata": {},
   "outputs": [],
   "source": [
    "# Summarize shapes, classes, and a preview\n",
    "cath_summary = {\n",
    "    \"shape\": cath_df.shape,\n",
    "    \"unique_classes\": cath_df[0].nunique(),\n",
    "    \"class_distribution\": cath_df[0].value_counts(),\n",
    "    \"head\": cath_df.head()\n",
    "}\n",
    "\n",
    "ecod_summary = {\n",
    "    \"shape\": ecod_df.shape,\n",
    "    \"unique_classes\": ecod_df[0].nunique(),\n",
    "    \"class_distribution\": ecod_df[0].value_counts(),\n",
    "    \"head\": ecod_df.head()\n",
    "}"
   ]
  },
  {
   "cell_type": "code",
   "execution_count": null,
   "id": "7be048a6-a9b5-4f6f-ad00-74610b6db555",
   "metadata": {},
   "outputs": [],
   "source": [
    "print(cath_summary)"
   ]
  },
  {
   "cell_type": "code",
   "execution_count": null,
   "id": "de86ef59-6d9c-45c0-a371-baa5f02bff62",
   "metadata": {},
   "outputs": [],
   "source": [
    "print(ecod_summary)"
   ]
  },
  {
   "cell_type": "code",
   "execution_count": null,
   "id": "7f46e98a-1a83-4881-9e63-70beaa02aa8a",
   "metadata": {},
   "outputs": [],
   "source": [
    "a = [1.2,3.4,5.6],\n",
    "b = [2.4,3.2,4.5]\n",
    "\n",
    "z_ab = abs(a[i]-b[i])\n",
    "\n",
    "2*(1.2-2.4)/1+abs(1.2)+abs(2.4)\n",
    "\n",
    "Vector in the original dimenstion\n",
    "\n",
    "30 proteins \n",
    "30*29/2-> pairs of proteins"
   ]
  },
  {
   "cell_type": "code",
   "execution_count": null,
   "id": "5eb992cc-9f1c-46d7-8baf-8f29af3b2b73",
   "metadata": {},
   "outputs": [],
   "source": [
    "cath_df.iloc[0]"
   ]
  },
  {
   "cell_type": "code",
   "execution_count": null,
   "id": "d5d139e8-d1cd-4e48-ae0b-3a476f9bf731",
   "metadata": {},
   "outputs": [],
   "source": [
    "for i in range(0,2):\n",
    "    print(type(cath_df.iloc[0,i]))"
   ]
  },
  {
   "cell_type": "code",
   "execution_count": null,
   "id": "bbf19f58-1186-4d6c-8d16-aeccd8ec4882",
   "metadata": {},
   "outputs": [],
   "source": [
    "# Plot class distribution for CATH\n",
    "cath_class_counts = cath_df[0].value_counts()\n",
    "plt.figure(figsize=(12, 4))\n",
    "plt.hist(cath_class_counts, bins=30, edgecolor='black')\n",
    "plt.title('Class Frequency Distribution in CATH Dataset')\n",
    "plt.xlabel('Number of proteins per class')\n",
    "plt.ylabel('Number of classes')\n",
    "plt.grid(True)\n",
    "plt.tight_layout()\n",
    "plt.show()\n",
    "\n",
    "# Plot class distribution for ECOD\n",
    "ecod_class_counts = ecod_df[0].value_counts()\n",
    "plt.figure(figsize=(12, 4))\n",
    "plt.hist(ecod_class_counts, bins=20, edgecolor='black')\n",
    "plt.title('Class Frequency Distribution in ECOD Dataset')\n",
    "plt.xlabel('Number of proteins per class')\n",
    "plt.ylabel('Number of classes')\n",
    "plt.grid(True)\n",
    "plt.tight_layout()\n",
    "plt.show()\n"
   ]
  },
  {
   "cell_type": "markdown",
   "id": "b74b42ec-a023-45bd-8134-7b4040f6df5a",
   "metadata": {},
   "source": [
    "### Visualizing Class Imbalance\n",
    "\n",
    "Each protein in the dataset is associated with a structural class label (column 0), which identifies its 3D(1D in this case) shape category. Understanding how many proteins fall into each class is critical because the dataset is not balanced—some classes have many proteins, while others have very few.\n",
    "\n",
    "To quantify this, we use `value_counts()` to compute the frequency of each class label and visualize the distribution with a histogram.\n",
    "\n",
    "#### Why this is important:\n",
    "During training, we will create pairs of proteins to determine structural similarity. If a particular class contains many proteins, it will generate significantly more pairs, which may bias the model toward frequently occurring classes. This can lead to overfitting and poor generalization, especially on underrepresented classes.\n",
    "\n",
    "By plotting the class frequency distribution:\n",
    "- We confirm whether class imbalance is present.\n",
    "- We motivate the need for sampling strategies such as `WeightedRandomSampler` to correct for this imbalance during training.\n",
    "\n",
    "This analysis is a key step in understanding the structure of the data and informing how we design the training process.\n"
   ]
  },
  {
   "cell_type": "code",
   "execution_count": null,
   "id": "1cb5cbce-9fb8-4234-b0fd-d30b6ba80a9d",
   "metadata": {},
   "outputs": [],
   "source": [
    "import sys\n",
    "import numpy as np\n",
    "\n",
    "print(\"Python version:\", sys.version)\n",
    "print(\"NumPy version:\", np.__version__)\n"
   ]
  },
  {
   "cell_type": "code",
   "execution_count": null,
   "id": "b93b9fca-47ff-4620-b460-0211f1a3617b",
   "metadata": {},
   "outputs": [],
   "source": []
  },
  {
   "cell_type": "code",
   "execution_count": null,
   "id": "338142c3-2c98-4ee9-96f2-0d9c84d40eef",
   "metadata": {},
   "outputs": [],
   "source": []
  },
  {
   "cell_type": "code",
   "execution_count": 1,
   "id": "3f1038f8-5421-4a40-9909-f5ba99dc7d64",
   "metadata": {},
   "outputs": [
    {
     "name": "stdout",
     "output_type": "stream",
     "text": [
      "[INFO] Using 9 CPU threads\n",
      "[INFO] Using 9 CPU threads\n"
     ]
    }
   ],
   "source": [
    "import pandas as pd\n",
    "import torch\n",
    "import importlib\n",
    "import train\n",
    "import dataset\n",
    "import time\n",
    "import os\n",
    "importlib.reload(train)\n",
    "importlib.reload(dataset)\n",
    "import random\n",
    "\n",
    "random.seed(42)\n",
    "\n",
    "\n",
    "from train import train_model, test_model_on_ecod"
   ]
  },
  {
   "cell_type": "code",
   "execution_count": 2,
   "id": "e2776cb5-6d19-467e-bd45-3514d3c5f6b9",
   "metadata": {},
   "outputs": [
    {
     "name": "stdout",
     "output_type": "stream",
     "text": [
      "CATH: (2685, 3923), ECOD: (761, 3923)\n"
     ]
    }
   ],
   "source": [
    "# Load datasets\n",
    "cath_df = pd.read_csv(\"./data/cath_moments.tsv\", sep='\\t', header=None).dropna(axis=1)\n",
    "ecod_df = pd.read_csv(\"./data/ecod_moments.tsv\", sep='\\t', header=None).dropna(axis=1)\n",
    "\n",
    "print(f\"CATH: {cath_df.shape}, ECOD: {ecod_df.shape}\")\n",
    "features,labels=None,None\n"
   ]
  },
  {
   "cell_type": "code",
   "execution_count": 3,
   "id": "65844a61-6755-46bc-bf35-0b2079814701",
   "metadata": {},
   "outputs": [],
   "source": [
    "num_proteins = 2685"
   ]
  },
  {
   "cell_type": "code",
   "execution_count": 4,
   "id": "91bf336f-01fc-4dd5-9fcf-3eb92b581400",
   "metadata": {
    "scrolled": true
   },
   "outputs": [],
   "source": [
    "# import pandas as pd\n",
    "# from cache_utils import cache_pairwise_data\n",
    "\n",
    "# df = pd.read_csv(\"./data/cath_moments.tsv\", sep=\"\\t\", header=None).dropna(axis=1)\n",
    "\n",
    "\n",
    "# cache_dir = \"./cache/cath_\"+str(num_proteins)\n",
    "# merge_dir = cache_dir+\"/cath_merged.pkl\"\n",
    "\n",
    "# # if not os.path.exists(merge_dir):\n",
    "# #     cache_pairwise_data(df.head(num_proteins), cache_dir=cache_dir, buffer_limit_mb=100)"
   ]
  },
  {
   "cell_type": "code",
   "execution_count": null,
   "id": "97d59ff5-a740-48ee-b385-4e0837857e9a",
   "metadata": {},
   "outputs": [],
   "source": [
    "# from cache_utils import load_cached_parts,load_and_merge_parts\n",
    "# from dataset import ProteinPairDataset\n",
    "\n",
    "# tic = time.time_ns()\n",
    "# # Step 1: Load and merge buffered part_*.pkl files\n",
    "# features, labels = load_cached_parts(cache_dir, max_threads=16)\n",
    "\n",
    "# # #Parallel Load all the parts\n",
    "# # features, labels = load_and_merge_parts(\n",
    "# #     cache_dir=cache_dir,\n",
    "# #     save_path=merge_dir, \n",
    "# #     max_threads=16\n",
    "# # )\n",
    "\n",
    "# tac = time.time_ns()\n",
    "# print(\"Loaded in \",(tac-tic)/(10**6),\"ms\")"
   ]
  },
  {
   "cell_type": "code",
   "execution_count": null,
   "id": "9d324afd",
   "metadata": {},
   "outputs": [],
   "source": [
    "# from cache_utils import load_cached_parts\n",
    "\n",
    "# # Load cached features/labels \n",
    "# features, labels = load_cached_parts(\"./cache/cath_\"+str(num_proteins))\n",
    "\n",
    "# # Check dimensions\n",
    "# print(f\"[INFO] Loaded {len(features)} pairs with shape {features[0].shape}\")"
   ]
  },
  {
   "cell_type": "code",
   "execution_count": 5,
   "id": "d786dba6-8f87-42ee-9385-b46e76adb51b",
   "metadata": {},
   "outputs": [
    {
     "name": "stdout",
     "output_type": "stream",
     "text": [
      "Expected pairs: 3603270\n"
     ]
    }
   ],
   "source": [
    "print(\"Expected pairs:\",num_proteins*(num_proteins-1)//2)"
   ]
  },
  {
   "cell_type": "code",
   "execution_count": null,
   "id": "9061a230",
   "metadata": {},
   "outputs": [],
   "source": [
    "from weight_strategy import inverse_class_weighting\n",
    "input_dim = cath_df.shape[1]-1\n",
    "streaming = True\n",
    "lr = 1e-4\n",
    "\n",
    "if streaming==False:\n",
    "    print(\"-\"*20, \"CACHE\",\"-\"*20)\n",
    "    model = train_model(features=features, labels=labels, hidden_dim=32, input_dim=input_dim, streaming=streaming,batch_size=128,num_epochs=30,val_split=0.1,lr=lr)\n",
    "else:\n",
    "    print(\"-\"*20, \"OTG\",\"-\"*20)\n",
    "    model = train_model(protein_df=cath_df.head(num_proteins), hidden_dim=32, input_dim=input_dim, streaming=streaming,batch_size=128,num_epochs=30,val_split=0.1,lr=lr)"
   ]
  },
  {
   "cell_type": "code",
   "execution_count": null,
   "id": "a14fb772",
   "metadata": {},
   "outputs": [],
   "source": [
    "from weight_strategy import inverse_class_weighting\n",
    "input_dim = cath_df.shape[1]-1\n",
    "streaming = True\n",
    "\n",
    "if streaming==False:\n",
    "    print(\"-\"*20, \"CACHE\",\"-\"*20)\n",
    "    model = train_model(features=features, labels=labels, hidden_dim=64, input_dim=input_dim, streaming=streaming,batch_size=128,num_epochs=30,val_split=0.1,lr=lr)\n",
    "else:\n",
    "    print(\"-\"*20, \"OTG\",\"-\"*20)\n",
    "    model = train_model(protein_df=cath_df.head(num_proteins), hidden_dim=64, input_dim=input_dim, streaming=streaming,batch_size=128,num_epochs=30,val_split=0.1,lr=lr)"
   ]
  },
  {
   "cell_type": "code",
   "execution_count": null,
   "id": "d972b878",
   "metadata": {},
   "outputs": [],
   "source": [
    "from weight_strategy import inverse_class_weighting\n",
    "input_dim = cath_df.shape[1]-1\n",
    "streaming = True\n",
    "\n",
    "if streaming==False:\n",
    "    print(\"-\"*20, \"CACHE\",\"-\"*20)\n",
    "    model = train_model(features=features, labels=labels, hidden_dim=128, input_dim=input_dim, streaming=streaming,batch_size=128,num_epochs=30,val_split=0.1,lr=lr)\n",
    "else:\n",
    "    print(\"-\"*20, \"OTG\",\"-\"*20)\n",
    "    model = train_model(protein_df=cath_df.head(num_proteins), hidden_dim=128, input_dim=input_dim, streaming=streaming,batch_size=128,num_epochs=30,val_split=0.1,lr=lr)"
   ]
  },
  {
   "cell_type": "code",
   "execution_count": null,
   "id": "a7ccded9",
   "metadata": {},
   "outputs": [],
   "source": [
    "from weight_strategy import inverse_class_weighting\n",
    "input_dim = cath_df.shape[1]-1\n",
    "streaming = True\n",
    "\n",
    "if streaming==False:\n",
    "    print(\"-\"*20, \"CACHE\",\"-\"*20)\n",
    "    model = train_model(features=features, labels=labels, hidden_dim=256, input_dim=input_dim, streaming=streaming,batch_size=128,num_epochs=30,val_split=0.1,lr=lr)\n",
    "else:\n",
    "    print(\"-\"*20, \"OTG\",\"-\"*20)\n",
    "    model = train_model(protein_df=cath_df.head(num_proteins), hidden_dim=256, input_dim=input_dim, streaming=streaming,batch_size=128,num_epochs=30,val_split=0.1,lr=lr)"
   ]
  },
  {
   "cell_type": "code",
   "execution_count": null,
   "id": "6a81d8bd",
   "metadata": {},
   "outputs": [],
   "source": [
    "from weight_strategy import inverse_class_weighting\n",
    "input_dim = cath_df.shape[1]-1\n",
    "streaming = True\n",
    "\n",
    "if streaming==False:\n",
    "    print(\"-\"*20, \"CACHE\",\"-\"*20)\n",
    "    model = train_model(features=features, labels=labels, hidden_dim=512, input_dim=input_dim, streaming=streaming,batch_size=128,num_epochs=30,val_split=0.1,lr=lr)\n",
    "else:\n",
    "    print(\"-\"*20, \"OTG\",\"-\"*20)\n",
    "    model = train_model(protein_df=cath_df.head(num_proteins), hidden_dim=512, input_dim=input_dim, streaming=streaming,batch_size=128,num_epochs=30,val_split=0.1,lr=lr)"
   ]
  },
  {
   "cell_type": "code",
   "execution_count": 8,
   "id": "f4337b63",
   "metadata": {},
   "outputs": [
    {
     "name": "stdout",
     "output_type": "stream",
     "text": [
      "-------------------- OTG --------------------\n",
      "Training on: cpu (CPU)\n",
      "[TensorBoard] Logging to: tensorboard_logs/baseline_h1024_bs128_lr5e-06_ep30_20250330-062545\n",
      "[INFO] Loading Dataloader using streaming : True\n",
      "[INFO] Creating dataloaders... streaming=True\n",
      "[INFO] Initializing Streaming Dataset from DataFrame of size 2685\n",
      "[INFO] Streaming V2 init done in 0.57 seconds\n",
      "[INFO] Creating traindata with 3242943\n",
      "[INFO] Creating valdata with 360327\n",
      "Training model (hidden_dim=1024) for 30 epochs...\n"
     ]
    },
    {
     "data": {
      "application/vnd.jupyter.widget-view+json": {
       "model_id": "ae012dbd9a2340c29b722f149afaee32",
       "version_major": 2,
       "version_minor": 0
      },
      "text/plain": [
       "Epoch 1/30:   0%|          | 0/25336 [00:00<?, ?it/s]"
      ]
     },
     "metadata": {},
     "output_type": "display_data"
    },
    {
     "name": "stdout",
     "output_type": "stream",
     "text": [
      "Epoch 1/30 | Train Loss: 3770.6268 | Val Loss: 208.8888 | ROC AUC: 0.988 | PR AUC: 0.611 | MCC: 0.317\n"
     ]
    },
    {
     "data": {
      "application/vnd.jupyter.widget-view+json": {
       "model_id": "cd1b020a16f1429295b92d605a8fbf9d",
       "version_major": 2,
       "version_minor": 0
      },
      "text/plain": [
       "Epoch 2/30:   0%|          | 0/25336 [00:00<?, ?it/s]"
      ]
     },
     "metadata": {},
     "output_type": "display_data"
    },
    {
     "name": "stdout",
     "output_type": "stream",
     "text": [
      "Epoch 2/30 | Train Loss: 1626.6882 | Val Loss: 133.7798 | ROC AUC: 0.988 | PR AUC: 0.623 | MCC: 0.372\n"
     ]
    },
    {
     "data": {
      "application/vnd.jupyter.widget-view+json": {
       "model_id": "c2704f8a2ebe44a0acee5e2bcb2e4cea",
       "version_major": 2,
       "version_minor": 0
      },
      "text/plain": [
       "Epoch 3/30:   0%|          | 0/25336 [00:00<?, ?it/s]"
      ]
     },
     "metadata": {},
     "output_type": "display_data"
    },
    {
     "name": "stdout",
     "output_type": "stream",
     "text": [
      "Epoch 3/30 | Train Loss: 952.2820 | Val Loss: 82.9622 | ROC AUC: 0.989 | PR AUC: 0.642 | MCC: 0.436\n"
     ]
    },
    {
     "data": {
      "application/vnd.jupyter.widget-view+json": {
       "model_id": "c2b86a58ec3a42dcae94314c4126481d",
       "version_major": 2,
       "version_minor": 0
      },
      "text/plain": [
       "Epoch 4/30:   0%|          | 0/25336 [00:00<?, ?it/s]"
      ]
     },
     "metadata": {},
     "output_type": "display_data"
    },
    {
     "name": "stdout",
     "output_type": "stream",
     "text": [
      "Epoch 4/30 | Train Loss: 643.5892 | Val Loss: 72.6091 | ROC AUC: 0.988 | PR AUC: 0.634 | MCC: 0.449\n"
     ]
    },
    {
     "data": {
      "application/vnd.jupyter.widget-view+json": {
       "model_id": "8d2bdb533f554c8fb9b6a05035208bcc",
       "version_major": 2,
       "version_minor": 0
      },
      "text/plain": [
       "Epoch 5/30:   0%|          | 0/25336 [00:00<?, ?it/s]"
      ]
     },
     "metadata": {},
     "output_type": "display_data"
    },
    {
     "name": "stdout",
     "output_type": "stream",
     "text": [
      "Epoch 5/30 | Train Loss: 470.4529 | Val Loss: 68.9474 | ROC AUC: 0.989 | PR AUC: 0.644 | MCC: 0.463\n"
     ]
    },
    {
     "data": {
      "application/vnd.jupyter.widget-view+json": {
       "model_id": "a46262c6e5754a6dbcee3a7c0e997c0c",
       "version_major": 2,
       "version_minor": 0
      },
      "text/plain": [
       "Epoch 6/30:   0%|          | 0/25336 [00:00<?, ?it/s]"
      ]
     },
     "metadata": {},
     "output_type": "display_data"
    },
    {
     "name": "stdout",
     "output_type": "stream",
     "text": [
      "Epoch 6/30 | Train Loss: 362.4367 | Val Loss: 62.9589 | ROC AUC: 0.988 | PR AUC: 0.646 | MCC: 0.477\n"
     ]
    },
    {
     "data": {
      "application/vnd.jupyter.widget-view+json": {
       "model_id": "2e952e1c0ca54ad0aa2686f9133235f0",
       "version_major": 2,
       "version_minor": 0
      },
      "text/plain": [
       "Epoch 7/30:   0%|          | 0/25336 [00:00<?, ?it/s]"
      ]
     },
     "metadata": {},
     "output_type": "display_data"
    },
    {
     "name": "stdout",
     "output_type": "stream",
     "text": [
      "Epoch 7/30 | Train Loss: 296.8323 | Val Loss: 57.6975 | ROC AUC: 0.987 | PR AUC: 0.636 | MCC: 0.488\n"
     ]
    },
    {
     "data": {
      "application/vnd.jupyter.widget-view+json": {
       "model_id": "b59900d05861485fa9b61e1550246910",
       "version_major": 2,
       "version_minor": 0
      },
      "text/plain": [
       "Epoch 8/30:   0%|          | 0/25336 [00:00<?, ?it/s]"
      ]
     },
     "metadata": {},
     "output_type": "display_data"
    },
    {
     "name": "stdout",
     "output_type": "stream",
     "text": [
      "Epoch 8/30 | Train Loss: 243.5714 | Val Loss: 54.7768 | ROC AUC: 0.987 | PR AUC: 0.644 | MCC: 0.502\n"
     ]
    },
    {
     "data": {
      "application/vnd.jupyter.widget-view+json": {
       "model_id": "70b40a123c0a4507a0d71d0ad82e9024",
       "version_major": 2,
       "version_minor": 0
      },
      "text/plain": [
       "Epoch 9/30:   0%|          | 0/25336 [00:00<?, ?it/s]"
      ]
     },
     "metadata": {},
     "output_type": "display_data"
    },
    {
     "name": "stdout",
     "output_type": "stream",
     "text": [
      "Epoch 9/30 | Train Loss: 209.7473 | Val Loss: 57.1940 | ROC AUC: 0.988 | PR AUC: 0.643 | MCC: 0.496\n"
     ]
    },
    {
     "data": {
      "application/vnd.jupyter.widget-view+json": {
       "model_id": "f5650c64fa9c442d9302053b1a9f8c0d",
       "version_major": 2,
       "version_minor": 0
      },
      "text/plain": [
       "Epoch 10/30:   0%|          | 0/25336 [00:00<?, ?it/s]"
      ]
     },
     "metadata": {},
     "output_type": "display_data"
    },
    {
     "name": "stdout",
     "output_type": "stream",
     "text": [
      "Epoch 10/30 | Train Loss: 183.3671 | Val Loss: 48.3058 | ROC AUC: 0.987 | PR AUC: 0.642 | MCC: 0.524\n"
     ]
    },
    {
     "data": {
      "application/vnd.jupyter.widget-view+json": {
       "model_id": "bebb7c1c05db4718adcf0b5f1ec37f12",
       "version_major": 2,
       "version_minor": 0
      },
      "text/plain": [
       "Epoch 11/30:   0%|          | 0/25336 [00:00<?, ?it/s]"
      ]
     },
     "metadata": {},
     "output_type": "display_data"
    },
    {
     "name": "stdout",
     "output_type": "stream",
     "text": [
      "Epoch 11/30 | Train Loss: 163.0535 | Val Loss: 52.0852 | ROC AUC: 0.987 | PR AUC: 0.644 | MCC: 0.508\n"
     ]
    },
    {
     "data": {
      "application/vnd.jupyter.widget-view+json": {
       "model_id": "6c42421b17404636b11e4df8c57e2412",
       "version_major": 2,
       "version_minor": 0
      },
      "text/plain": [
       "Epoch 12/30:   0%|          | 0/25336 [00:00<?, ?it/s]"
      ]
     },
     "metadata": {},
     "output_type": "display_data"
    },
    {
     "name": "stdout",
     "output_type": "stream",
     "text": [
      "Epoch 12/30 | Train Loss: 146.4547 | Val Loss: 47.2597 | ROC AUC: 0.987 | PR AUC: 0.631 | MCC: 0.525\n"
     ]
    },
    {
     "data": {
      "application/vnd.jupyter.widget-view+json": {
       "model_id": "e3fdddb16a014e59b770bbdd43da000e",
       "version_major": 2,
       "version_minor": 0
      },
      "text/plain": [
       "Epoch 13/30:   0%|          | 0/25336 [00:00<?, ?it/s]"
      ]
     },
     "metadata": {},
     "output_type": "display_data"
    },
    {
     "name": "stdout",
     "output_type": "stream",
     "text": [
      "Epoch 13/30 | Train Loss: 135.9912 | Val Loss: 47.6240 | ROC AUC: 0.987 | PR AUC: 0.637 | MCC: 0.522\n"
     ]
    },
    {
     "data": {
      "application/vnd.jupyter.widget-view+json": {
       "model_id": "1a217624fbf74097836b57f1f80a8afd",
       "version_major": 2,
       "version_minor": 0
      },
      "text/plain": [
       "Epoch 14/30:   0%|          | 0/25336 [00:00<?, ?it/s]"
      ]
     },
     "metadata": {},
     "output_type": "display_data"
    },
    {
     "name": "stdout",
     "output_type": "stream",
     "text": [
      "Epoch 14/30 | Train Loss: 124.0646 | Val Loss: 45.8735 | ROC AUC: 0.987 | PR AUC: 0.639 | MCC: 0.532\n"
     ]
    },
    {
     "data": {
      "application/vnd.jupyter.widget-view+json": {
       "model_id": "ac1ea0eac2124575bdf2a4636afba745",
       "version_major": 2,
       "version_minor": 0
      },
      "text/plain": [
       "Epoch 15/30:   0%|          | 0/25336 [00:00<?, ?it/s]"
      ]
     },
     "metadata": {},
     "output_type": "display_data"
    },
    {
     "name": "stdout",
     "output_type": "stream",
     "text": [
      "Epoch 15/30 | Train Loss: 116.1758 | Val Loss: 42.4412 | ROC AUC: 0.986 | PR AUC: 0.634 | MCC: 0.535\n"
     ]
    },
    {
     "data": {
      "application/vnd.jupyter.widget-view+json": {
       "model_id": "e03a93687b4243b7801da095bd463452",
       "version_major": 2,
       "version_minor": 0
      },
      "text/plain": [
       "Epoch 16/30:   0%|          | 0/25336 [00:00<?, ?it/s]"
      ]
     },
     "metadata": {},
     "output_type": "display_data"
    },
    {
     "name": "stdout",
     "output_type": "stream",
     "text": [
      "Epoch 16/30 | Train Loss: 109.8195 | Val Loss: 45.2003 | ROC AUC: 0.987 | PR AUC: 0.639 | MCC: 0.539\n"
     ]
    },
    {
     "data": {
      "application/vnd.jupyter.widget-view+json": {
       "model_id": "1ecb79373753434db49b59a51711bc9a",
       "version_major": 2,
       "version_minor": 0
      },
      "text/plain": [
       "Epoch 17/30:   0%|          | 0/25336 [00:00<?, ?it/s]"
      ]
     },
     "metadata": {},
     "output_type": "display_data"
    },
    {
     "name": "stdout",
     "output_type": "stream",
     "text": [
      "Epoch 17/30 | Train Loss: 102.2645 | Val Loss: 46.2193 | ROC AUC: 0.987 | PR AUC: 0.641 | MCC: 0.532\n"
     ]
    },
    {
     "data": {
      "application/vnd.jupyter.widget-view+json": {
       "model_id": "4bcc58f9967944589c0237cae5dfb129",
       "version_major": 2,
       "version_minor": 0
      },
      "text/plain": [
       "Epoch 18/30:   0%|          | 0/25336 [00:00<?, ?it/s]"
      ]
     },
     "metadata": {},
     "output_type": "display_data"
    },
    {
     "name": "stdout",
     "output_type": "stream",
     "text": [
      "Epoch 18/30 | Train Loss: 98.3857 | Val Loss: 48.7326 | ROC AUC: 0.987 | PR AUC: 0.640 | MCC: 0.522\n"
     ]
    },
    {
     "data": {
      "application/vnd.jupyter.widget-view+json": {
       "model_id": "c2c315be2af14b16ba8c678deb53be21",
       "version_major": 2,
       "version_minor": 0
      },
      "text/plain": [
       "Epoch 19/30:   0%|          | 0/25336 [00:00<?, ?it/s]"
      ]
     },
     "metadata": {},
     "output_type": "display_data"
    },
    {
     "name": "stdout",
     "output_type": "stream",
     "text": [
      "Epoch 19/30 | Train Loss: 94.5555 | Val Loss: 46.2653 | ROC AUC: 0.987 | PR AUC: 0.633 | MCC: 0.532\n"
     ]
    },
    {
     "data": {
      "application/vnd.jupyter.widget-view+json": {
       "model_id": "9b481fb431f246c0bcd6424a3274b547",
       "version_major": 2,
       "version_minor": 0
      },
      "text/plain": [
       "Epoch 20/30:   0%|          | 0/25336 [00:00<?, ?it/s]"
      ]
     },
     "metadata": {},
     "output_type": "display_data"
    },
    {
     "name": "stdout",
     "output_type": "stream",
     "text": [
      "Epoch 20/30 | Train Loss: 91.3819 | Val Loss: 47.5565 | ROC AUC: 0.986 | PR AUC: 0.632 | MCC: 0.522\n"
     ]
    },
    {
     "data": {
      "application/vnd.jupyter.widget-view+json": {
       "model_id": "93cf9f1308d64fcd921ec529dc82fa67",
       "version_major": 2,
       "version_minor": 0
      },
      "text/plain": [
       "Epoch 21/30:   0%|          | 0/25336 [00:00<?, ?it/s]"
      ]
     },
     "metadata": {},
     "output_type": "display_data"
    },
    {
     "name": "stdout",
     "output_type": "stream",
     "text": [
      "Epoch 21/30 | Train Loss: 88.0607 | Val Loss: 41.5615 | ROC AUC: 0.986 | PR AUC: 0.637 | MCC: 0.555\n"
     ]
    },
    {
     "data": {
      "application/vnd.jupyter.widget-view+json": {
       "model_id": "9f9f194bf637494cbfe0e89f925c801a",
       "version_major": 2,
       "version_minor": 0
      },
      "text/plain": [
       "Epoch 22/30:   0%|          | 0/25336 [00:00<?, ?it/s]"
      ]
     },
     "metadata": {},
     "output_type": "display_data"
    },
    {
     "name": "stdout",
     "output_type": "stream",
     "text": [
      "Epoch 22/30 | Train Loss: 85.4118 | Val Loss: 50.1963 | ROC AUC: 0.986 | PR AUC: 0.637 | MCC: 0.515\n"
     ]
    },
    {
     "data": {
      "application/vnd.jupyter.widget-view+json": {
       "model_id": "4bea7e6a94e44119a68a0ef4cb3b6ed7",
       "version_major": 2,
       "version_minor": 0
      },
      "text/plain": [
       "Epoch 23/30:   0%|          | 0/25336 [00:00<?, ?it/s]"
      ]
     },
     "metadata": {},
     "output_type": "display_data"
    },
    {
     "name": "stdout",
     "output_type": "stream",
     "text": [
      "Epoch 23/30 | Train Loss: 82.3716 | Val Loss: 45.7618 | ROC AUC: 0.987 | PR AUC: 0.638 | MCC: 0.529\n"
     ]
    },
    {
     "data": {
      "application/vnd.jupyter.widget-view+json": {
       "model_id": "06cce93461b249b9bc5617b4753cd900",
       "version_major": 2,
       "version_minor": 0
      },
      "text/plain": [
       "Epoch 24/30:   0%|          | 0/25336 [00:00<?, ?it/s]"
      ]
     },
     "metadata": {},
     "output_type": "display_data"
    },
    {
     "name": "stdout",
     "output_type": "stream",
     "text": [
      "Epoch 24/30 | Train Loss: 81.8189 | Val Loss: 44.4549 | ROC AUC: 0.986 | PR AUC: 0.628 | MCC: 0.540\n"
     ]
    },
    {
     "data": {
      "application/vnd.jupyter.widget-view+json": {
       "model_id": "cb0cbe477b3b4534b915ad7ed0960763",
       "version_major": 2,
       "version_minor": 0
      },
      "text/plain": [
       "Epoch 25/30:   0%|          | 0/25336 [00:00<?, ?it/s]"
      ]
     },
     "metadata": {},
     "output_type": "display_data"
    },
    {
     "name": "stdout",
     "output_type": "stream",
     "text": [
      "Epoch 25/30 | Train Loss: 80.0545 | Val Loss: 49.8281 | ROC AUC: 0.987 | PR AUC: 0.643 | MCC: 0.522\n"
     ]
    },
    {
     "data": {
      "application/vnd.jupyter.widget-view+json": {
       "model_id": "02e62dec332e464a97a270bdb9f718b7",
       "version_major": 2,
       "version_minor": 0
      },
      "text/plain": [
       "Epoch 26/30:   0%|          | 0/25336 [00:00<?, ?it/s]"
      ]
     },
     "metadata": {},
     "output_type": "display_data"
    },
    {
     "name": "stdout",
     "output_type": "stream",
     "text": [
      "Epoch 26/30 | Train Loss: 76.3627 | Val Loss: 46.1886 | ROC AUC: 0.987 | PR AUC: 0.638 | MCC: 0.531\n"
     ]
    },
    {
     "data": {
      "application/vnd.jupyter.widget-view+json": {
       "model_id": "c176c0216ae44903909a34092973c1e1",
       "version_major": 2,
       "version_minor": 0
      },
      "text/plain": [
       "Epoch 27/30:   0%|          | 0/25336 [00:00<?, ?it/s]"
      ]
     },
     "metadata": {},
     "output_type": "display_data"
    },
    {
     "name": "stdout",
     "output_type": "stream",
     "text": [
      "Epoch 27/30 | Train Loss: 75.8855 | Val Loss: 40.6204 | ROC AUC: 0.986 | PR AUC: 0.639 | MCC: 0.560\n"
     ]
    },
    {
     "data": {
      "application/vnd.jupyter.widget-view+json": {
       "model_id": "7fc31d716675485fab739400c97720c0",
       "version_major": 2,
       "version_minor": 0
      },
      "text/plain": [
       "Epoch 28/30:   0%|          | 0/25336 [00:00<?, ?it/s]"
      ]
     },
     "metadata": {},
     "output_type": "display_data"
    },
    {
     "name": "stdout",
     "output_type": "stream",
     "text": [
      "Epoch 28/30 | Train Loss: 75.0835 | Val Loss: 39.8620 | ROC AUC: 0.988 | PR AUC: 0.645 | MCC: 0.565\n"
     ]
    },
    {
     "data": {
      "application/vnd.jupyter.widget-view+json": {
       "model_id": "f21d50e129b44267bd44e74143146fd1",
       "version_major": 2,
       "version_minor": 0
      },
      "text/plain": [
       "Epoch 29/30:   0%|          | 0/25336 [00:00<?, ?it/s]"
      ]
     },
     "metadata": {},
     "output_type": "display_data"
    },
    {
     "name": "stdout",
     "output_type": "stream",
     "text": [
      "Epoch 29/30 | Train Loss: 73.7308 | Val Loss: 37.5907 | ROC AUC: 0.987 | PR AUC: 0.644 | MCC: 0.580\n"
     ]
    },
    {
     "data": {
      "application/vnd.jupyter.widget-view+json": {
       "model_id": "0f5d8c98d9f34e2c9737b54d8341f383",
       "version_major": 2,
       "version_minor": 0
      },
      "text/plain": [
       "Epoch 30/30:   0%|          | 0/25336 [00:00<?, ?it/s]"
      ]
     },
     "metadata": {},
     "output_type": "display_data"
    },
    {
     "name": "stdout",
     "output_type": "stream",
     "text": [
      "Epoch 30/30 | Train Loss: 72.1046 | Val Loss: 37.2721 | ROC AUC: 0.988 | PR AUC: 0.646 | MCC: 0.578\n"
     ]
    }
   ],
   "source": [
    "from weight_strategy import inverse_class_weighting\n",
    "input_dim = cath_df.shape[1]-1\n",
    "streaming = True\n",
    "\n",
    "lr = 0.000005\n",
    "if streaming==False:\n",
    "    print(\"-\"*20, \"CACHE\",\"-\"*20)\n",
    "    model = train_model(features=features, labels=labels, hidden_dim=1024, input_dim=input_dim, streaming=streaming,batch_size=128,num_epochs=30,val_split=0.1,lr=lr)\n",
    "else:\n",
    "    print(\"-\"*20, \"OTG\",\"-\"*20)\n",
    "    model = train_model(protein_df=cath_df.head(num_proteins), hidden_dim=1024, input_dim=input_dim, streaming=streaming,batch_size=128,num_epochs=30,val_split=0.1,lr=lr)"
   ]
  },
  {
   "cell_type": "code",
   "execution_count": 10,
   "id": "36cc68c3",
   "metadata": {},
   "outputs": [
    {
     "name": "stdout",
     "output_type": "stream",
     "text": [
      "-------------------- OTG --------------------\n",
      "Training on: cpu (CPU)\n",
      "[TensorBoard] Logging to: tensorboard_logs/baseline_h1024_bs128_lr1e-05_ep30_20250330-133020\n",
      "[INFO] Loading Dataloader using streaming : True\n",
      "[INFO] Creating dataloaders... streaming=True\n",
      "[INFO] Initializing Streaming Dataset from DataFrame of size 2685\n",
      "[INFO] Streaming V2 init done in 0.89 seconds\n",
      "[INFO] Creating traindata with 3242943\n",
      "[INFO] Creating valdata with 360327\n",
      "Training model (hidden_dim=1024) for 30 epochs...\n"
     ]
    },
    {
     "data": {
      "application/vnd.jupyter.widget-view+json": {
       "model_id": "0cf1fd1c42614d4998d8f5b2ab951e54",
       "version_major": 2,
       "version_minor": 0
      },
      "text/plain": [
       "Epoch 1/30:   0%|          | 0/25336 [00:00<?, ?it/s]"
      ]
     },
     "metadata": {},
     "output_type": "display_data"
    },
    {
     "name": "stdout",
     "output_type": "stream",
     "text": [
      "Epoch 1/30 | Train Loss: 2746.5221 | Val Loss: 138.3194 | ROC AUC: 0.989 | PR AUC: 0.625 | MCC: 0.371\n"
     ]
    },
    {
     "data": {
      "application/vnd.jupyter.widget-view+json": {
       "model_id": "d93f7fde12054e98bd4f1f8f5cfb2399",
       "version_major": 2,
       "version_minor": 0
      },
      "text/plain": [
       "Epoch 2/30:   0%|          | 0/25336 [00:00<?, ?it/s]"
      ]
     },
     "metadata": {},
     "output_type": "display_data"
    },
    {
     "name": "stdout",
     "output_type": "stream",
     "text": [
      "Epoch 2/30 | Train Loss: 852.9638 | Val Loss: 87.3493 | ROC AUC: 0.988 | PR AUC: 0.640 | MCC: 0.428\n"
     ]
    },
    {
     "data": {
      "application/vnd.jupyter.widget-view+json": {
       "model_id": "ac5e7f4ee9444cb3a21a21fea91322e7",
       "version_major": 2,
       "version_minor": 0
      },
      "text/plain": [
       "Epoch 3/30:   0%|          | 0/25336 [00:00<?, ?it/s]"
      ]
     },
     "metadata": {},
     "output_type": "display_data"
    },
    {
     "name": "stdout",
     "output_type": "stream",
     "text": [
      "Epoch 3/30 | Train Loss: 460.5240 | Val Loss: 69.1546 | ROC AUC: 0.987 | PR AUC: 0.632 | MCC: 0.455\n"
     ]
    },
    {
     "data": {
      "application/vnd.jupyter.widget-view+json": {
       "model_id": "f8de3862019644e293242f570a835a0c",
       "version_major": 2,
       "version_minor": 0
      },
      "text/plain": [
       "Epoch 4/30:   0%|          | 0/25336 [00:00<?, ?it/s]"
      ]
     },
     "metadata": {},
     "output_type": "display_data"
    },
    {
     "name": "stdout",
     "output_type": "stream",
     "text": [
      "Epoch 4/30 | Train Loss: 309.8509 | Val Loss: 58.8614 | ROC AUC: 0.987 | PR AUC: 0.640 | MCC: 0.489\n"
     ]
    },
    {
     "data": {
      "application/vnd.jupyter.widget-view+json": {
       "model_id": "93a5bef01d2744138dd750e360448a59",
       "version_major": 2,
       "version_minor": 0
      },
      "text/plain": [
       "Epoch 5/30:   0%|          | 0/25336 [00:00<?, ?it/s]"
      ]
     },
     "metadata": {},
     "output_type": "display_data"
    },
    {
     "name": "stdout",
     "output_type": "stream",
     "text": [
      "Epoch 5/30 | Train Loss: 234.3192 | Val Loss: 59.8611 | ROC AUC: 0.988 | PR AUC: 0.635 | MCC: 0.487\n"
     ]
    },
    {
     "data": {
      "application/vnd.jupyter.widget-view+json": {
       "model_id": "ecc3fe389a584da3b03d280bbf4ab41c",
       "version_major": 2,
       "version_minor": 0
      },
      "text/plain": [
       "Epoch 6/30:   0%|          | 0/25336 [00:00<?, ?it/s]"
      ]
     },
     "metadata": {},
     "output_type": "display_data"
    },
    {
     "name": "stdout",
     "output_type": "stream",
     "text": [
      "Epoch 6/30 | Train Loss: 190.7421 | Val Loss: 50.1116 | ROC AUC: 0.987 | PR AUC: 0.633 | MCC: 0.510\n"
     ]
    },
    {
     "data": {
      "application/vnd.jupyter.widget-view+json": {
       "model_id": "a8169db42f14494e8f4475a5c705c1f2",
       "version_major": 2,
       "version_minor": 0
      },
      "text/plain": [
       "Epoch 7/30:   0%|          | 0/25336 [00:00<?, ?it/s]"
      ]
     },
     "metadata": {},
     "output_type": "display_data"
    },
    {
     "name": "stdout",
     "output_type": "stream",
     "text": [
      "Epoch 7/30 | Train Loss: 164.8990 | Val Loss: 44.8325 | ROC AUC: 0.986 | PR AUC: 0.628 | MCC: 0.533\n"
     ]
    },
    {
     "data": {
      "application/vnd.jupyter.widget-view+json": {
       "model_id": "c1fa8841caf5463e8af55096a1bc1e2a",
       "version_major": 2,
       "version_minor": 0
      },
      "text/plain": [
       "Epoch 8/30:   0%|          | 0/25336 [00:00<?, ?it/s]"
      ]
     },
     "metadata": {},
     "output_type": "display_data"
    },
    {
     "name": "stdout",
     "output_type": "stream",
     "text": [
      "Epoch 8/30 | Train Loss: 146.1045 | Val Loss: 44.1459 | ROC AUC: 0.988 | PR AUC: 0.635 | MCC: 0.537\n"
     ]
    },
    {
     "data": {
      "application/vnd.jupyter.widget-view+json": {
       "model_id": "4ef7b60e9ce1437c831196f04ff93136",
       "version_major": 2,
       "version_minor": 0
      },
      "text/plain": [
       "Epoch 9/30:   0%|          | 0/25336 [00:00<?, ?it/s]"
      ]
     },
     "metadata": {},
     "output_type": "display_data"
    },
    {
     "name": "stdout",
     "output_type": "stream",
     "text": [
      "Epoch 9/30 | Train Loss: 133.9301 | Val Loss: 44.8565 | ROC AUC: 0.988 | PR AUC: 0.641 | MCC: 0.537\n"
     ]
    },
    {
     "data": {
      "application/vnd.jupyter.widget-view+json": {
       "model_id": "58ad72d3a7e243b5b12e7588b617de70",
       "version_major": 2,
       "version_minor": 0
      },
      "text/plain": [
       "Epoch 10/30:   0%|          | 0/25336 [00:00<?, ?it/s]"
      ]
     },
     "metadata": {},
     "output_type": "display_data"
    },
    {
     "name": "stdout",
     "output_type": "stream",
     "text": [
      "Epoch 10/30 | Train Loss: 124.6119 | Val Loss: 47.1424 | ROC AUC: 0.986 | PR AUC: 0.622 | MCC: 0.517\n"
     ]
    },
    {
     "data": {
      "application/vnd.jupyter.widget-view+json": {
       "model_id": "21bdfb3d45234686b380e19191ee3b93",
       "version_major": 2,
       "version_minor": 0
      },
      "text/plain": [
       "Epoch 11/30:   0%|          | 0/25336 [00:00<?, ?it/s]"
      ]
     },
     "metadata": {},
     "output_type": "display_data"
    },
    {
     "name": "stdout",
     "output_type": "stream",
     "text": [
      "Epoch 11/30 | Train Loss: 115.8700 | Val Loss: 48.7630 | ROC AUC: 0.986 | PR AUC: 0.634 | MCC: 0.520\n"
     ]
    },
    {
     "data": {
      "application/vnd.jupyter.widget-view+json": {
       "model_id": "c02a263121004b32890208c13da89dd9",
       "version_major": 2,
       "version_minor": 0
      },
      "text/plain": [
       "Epoch 12/30:   0%|          | 0/25336 [00:00<?, ?it/s]"
      ]
     },
     "metadata": {},
     "output_type": "display_data"
    },
    {
     "name": "stdout",
     "output_type": "stream",
     "text": [
      "Epoch 12/30 | Train Loss: 107.8231 | Val Loss: 46.8281 | ROC AUC: 0.986 | PR AUC: 0.637 | MCC: 0.533\n"
     ]
    },
    {
     "data": {
      "application/vnd.jupyter.widget-view+json": {
       "model_id": "857d5a2f00324a35b7634c825feacb8a",
       "version_major": 2,
       "version_minor": 0
      },
      "text/plain": [
       "Epoch 13/30:   0%|          | 0/25336 [00:00<?, ?it/s]"
      ]
     },
     "metadata": {},
     "output_type": "display_data"
    },
    {
     "name": "stdout",
     "output_type": "stream",
     "text": [
      "Epoch 13/30 | Train Loss: 105.8403 | Val Loss: 47.6294 | ROC AUC: 0.985 | PR AUC: 0.623 | MCC: 0.517\n"
     ]
    },
    {
     "data": {
      "application/vnd.jupyter.widget-view+json": {
       "model_id": "caaa2cb6516b49eeb5ef7c669c517c3a",
       "version_major": 2,
       "version_minor": 0
      },
      "text/plain": [
       "Epoch 14/30:   0%|          | 0/25336 [00:00<?, ?it/s]"
      ]
     },
     "metadata": {},
     "output_type": "display_data"
    },
    {
     "name": "stdout",
     "output_type": "stream",
     "text": [
      "Epoch 14/30 | Train Loss: 100.6666 | Val Loss: 63.5519 | ROC AUC: 0.987 | PR AUC: 0.635 | MCC: 0.481\n"
     ]
    },
    {
     "data": {
      "application/vnd.jupyter.widget-view+json": {
       "model_id": "087ba0209eda40e681dcac445a5b2a52",
       "version_major": 2,
       "version_minor": 0
      },
      "text/plain": [
       "Epoch 15/30:   0%|          | 0/25336 [00:00<?, ?it/s]"
      ]
     },
     "metadata": {},
     "output_type": "display_data"
    },
    {
     "name": "stdout",
     "output_type": "stream",
     "text": [
      "Epoch 15/30 | Train Loss: 98.9007 | Val Loss: 53.2379 | ROC AUC: 0.987 | PR AUC: 0.642 | MCC: 0.508\n"
     ]
    },
    {
     "data": {
      "application/vnd.jupyter.widget-view+json": {
       "model_id": "a3024a63b163461a968b8f42cbe9937f",
       "version_major": 2,
       "version_minor": 0
      },
      "text/plain": [
       "Epoch 16/30:   0%|          | 0/25336 [00:00<?, ?it/s]"
      ]
     },
     "metadata": {},
     "output_type": "display_data"
    },
    {
     "name": "stdout",
     "output_type": "stream",
     "text": [
      "Epoch 16/30 | Train Loss: 96.5948 | Val Loss: 39.4519 | ROC AUC: 0.987 | PR AUC: 0.644 | MCC: 0.563\n"
     ]
    },
    {
     "data": {
      "application/vnd.jupyter.widget-view+json": {
       "model_id": "a1454a6fd50d44d2b95aca7adf809af2",
       "version_major": 2,
       "version_minor": 0
      },
      "text/plain": [
       "Epoch 17/30:   0%|          | 0/25336 [00:00<?, ?it/s]"
      ]
     },
     "metadata": {},
     "output_type": "display_data"
    },
    {
     "name": "stdout",
     "output_type": "stream",
     "text": [
      "Epoch 17/30 | Train Loss: 93.7793 | Val Loss: 45.1510 | ROC AUC: 0.988 | PR AUC: 0.644 | MCC: 0.537\n"
     ]
    },
    {
     "data": {
      "application/vnd.jupyter.widget-view+json": {
       "model_id": "1d57253ac39542e89ea12af2f5e1c409",
       "version_major": 2,
       "version_minor": 0
      },
      "text/plain": [
       "Epoch 18/30:   0%|          | 0/25336 [00:00<?, ?it/s]"
      ]
     },
     "metadata": {},
     "output_type": "display_data"
    },
    {
     "name": "stdout",
     "output_type": "stream",
     "text": [
      "Epoch 18/30 | Train Loss: 92.7296 | Val Loss: 38.8475 | ROC AUC: 0.987 | PR AUC: 0.631 | MCC: 0.566\n"
     ]
    },
    {
     "data": {
      "application/vnd.jupyter.widget-view+json": {
       "model_id": "b1e3d58f08104c979e070c838196939e",
       "version_major": 2,
       "version_minor": 0
      },
      "text/plain": [
       "Epoch 19/30:   0%|          | 0/25336 [00:00<?, ?it/s]"
      ]
     },
     "metadata": {},
     "output_type": "display_data"
    },
    {
     "name": "stdout",
     "output_type": "stream",
     "text": [
      "Epoch 19/30 | Train Loss: 91.0217 | Val Loss: 47.9414 | ROC AUC: 0.984 | PR AUC: 0.631 | MCC: 0.525\n"
     ]
    },
    {
     "data": {
      "application/vnd.jupyter.widget-view+json": {
       "model_id": "bb352165bd234eb99dc70658ab331507",
       "version_major": 2,
       "version_minor": 0
      },
      "text/plain": [
       "Epoch 20/30:   0%|          | 0/25336 [00:00<?, ?it/s]"
      ]
     },
     "metadata": {},
     "output_type": "display_data"
    },
    {
     "name": "stdout",
     "output_type": "stream",
     "text": [
      "Epoch 20/30 | Train Loss: 90.2498 | Val Loss: 46.4865 | ROC AUC: 0.986 | PR AUC: 0.638 | MCC: 0.530\n"
     ]
    },
    {
     "data": {
      "application/vnd.jupyter.widget-view+json": {
       "model_id": "57033023d81a4da596158e0e37cd61b8",
       "version_major": 2,
       "version_minor": 0
      },
      "text/plain": [
       "Epoch 21/30:   0%|          | 0/25336 [00:00<?, ?it/s]"
      ]
     },
     "metadata": {},
     "output_type": "display_data"
    },
    {
     "name": "stdout",
     "output_type": "stream",
     "text": [
      "Epoch 21/30 | Train Loss: 88.0587 | Val Loss: 48.5960 | ROC AUC: 0.986 | PR AUC: 0.642 | MCC: 0.524\n"
     ]
    },
    {
     "data": {
      "application/vnd.jupyter.widget-view+json": {
       "model_id": "11faf94b1e164da7bba4b9d9947df028",
       "version_major": 2,
       "version_minor": 0
      },
      "text/plain": [
       "Epoch 22/30:   0%|          | 0/25336 [00:00<?, ?it/s]"
      ]
     },
     "metadata": {},
     "output_type": "display_data"
    },
    {
     "name": "stdout",
     "output_type": "stream",
     "text": [
      "Epoch 22/30 | Train Loss: 88.4131 | Val Loss: 38.7476 | ROC AUC: 0.986 | PR AUC: 0.625 | MCC: 0.565\n"
     ]
    },
    {
     "data": {
      "application/vnd.jupyter.widget-view+json": {
       "model_id": "a1806fe84f384b45a94eb5b7eceba3da",
       "version_major": 2,
       "version_minor": 0
      },
      "text/plain": [
       "Epoch 23/30:   0%|          | 0/25336 [00:00<?, ?it/s]"
      ]
     },
     "metadata": {},
     "output_type": "display_data"
    },
    {
     "name": "stdout",
     "output_type": "stream",
     "text": [
      "Epoch 23/30 | Train Loss: 87.4264 | Val Loss: 54.4992 | ROC AUC: 0.988 | PR AUC: 0.637 | MCC: 0.501\n"
     ]
    },
    {
     "data": {
      "application/vnd.jupyter.widget-view+json": {
       "model_id": "9701e659c7ba40bb8a75be8dad59078a",
       "version_major": 2,
       "version_minor": 0
      },
      "text/plain": [
       "Epoch 24/30:   0%|          | 0/25336 [00:00<?, ?it/s]"
      ]
     },
     "metadata": {},
     "output_type": "display_data"
    },
    {
     "name": "stdout",
     "output_type": "stream",
     "text": [
      "Epoch 24/30 | Train Loss: 85.7063 | Val Loss: 39.6342 | ROC AUC: 0.985 | PR AUC: 0.621 | MCC: 0.562\n"
     ]
    },
    {
     "data": {
      "application/vnd.jupyter.widget-view+json": {
       "model_id": "3735b6fca46045e0a7ebf0747d3c47d4",
       "version_major": 2,
       "version_minor": 0
      },
      "text/plain": [
       "Epoch 25/30:   0%|          | 0/25336 [00:00<?, ?it/s]"
      ]
     },
     "metadata": {},
     "output_type": "display_data"
    },
    {
     "name": "stdout",
     "output_type": "stream",
     "text": [
      "Epoch 25/30 | Train Loss: 84.3025 | Val Loss: 45.9629 | ROC AUC: 0.987 | PR AUC: 0.643 | MCC: 0.533\n"
     ]
    },
    {
     "data": {
      "application/vnd.jupyter.widget-view+json": {
       "model_id": "1591909121b2451bb1dc07feb8794d20",
       "version_major": 2,
       "version_minor": 0
      },
      "text/plain": [
       "Epoch 26/30:   0%|          | 0/25336 [00:00<?, ?it/s]"
      ]
     },
     "metadata": {},
     "output_type": "display_data"
    },
    {
     "name": "stdout",
     "output_type": "stream",
     "text": [
      "Epoch 26/30 | Train Loss: 85.0155 | Val Loss: 46.4134 | ROC AUC: 0.985 | PR AUC: 0.617 | MCC: 0.518\n"
     ]
    },
    {
     "data": {
      "application/vnd.jupyter.widget-view+json": {
       "model_id": "b0e15a326c994473aa6a98041ae7d5b8",
       "version_major": 2,
       "version_minor": 0
      },
      "text/plain": [
       "Epoch 27/30:   0%|          | 0/25336 [00:00<?, ?it/s]"
      ]
     },
     "metadata": {},
     "output_type": "display_data"
    },
    {
     "name": "stdout",
     "output_type": "stream",
     "text": [
      "Epoch 27/30 | Train Loss: 84.7408 | Val Loss: 42.9891 | ROC AUC: 0.988 | PR AUC: 0.649 | MCC: 0.551\n"
     ]
    },
    {
     "data": {
      "application/vnd.jupyter.widget-view+json": {
       "model_id": "546884259f1a422fa3fadd551dc46c6f",
       "version_major": 2,
       "version_minor": 0
      },
      "text/plain": [
       "Epoch 28/30:   0%|          | 0/25336 [00:00<?, ?it/s]"
      ]
     },
     "metadata": {},
     "output_type": "display_data"
    },
    {
     "name": "stdout",
     "output_type": "stream",
     "text": [
      "Epoch 28/30 | Train Loss: 83.7393 | Val Loss: 47.6503 | ROC AUC: 0.985 | PR AUC: 0.620 | MCC: 0.520\n"
     ]
    },
    {
     "data": {
      "application/vnd.jupyter.widget-view+json": {
       "model_id": "7875b9432955492dac29049896e4aa68",
       "version_major": 2,
       "version_minor": 0
      },
      "text/plain": [
       "Epoch 29/30:   0%|          | 0/25336 [00:00<?, ?it/s]"
      ]
     },
     "metadata": {},
     "output_type": "display_data"
    },
    {
     "name": "stdout",
     "output_type": "stream",
     "text": [
      "Epoch 29/30 | Train Loss: 84.8638 | Val Loss: 41.8626 | ROC AUC: 0.987 | PR AUC: 0.627 | MCC: 0.548\n"
     ]
    },
    {
     "data": {
      "application/vnd.jupyter.widget-view+json": {
       "model_id": "f14cac347d0a487c927f77ff52ce1d2b",
       "version_major": 2,
       "version_minor": 0
      },
      "text/plain": [
       "Epoch 30/30:   0%|          | 0/25336 [00:00<?, ?it/s]"
      ]
     },
     "metadata": {},
     "output_type": "display_data"
    },
    {
     "name": "stdout",
     "output_type": "stream",
     "text": [
      "Epoch 30/30 | Train Loss: 83.7484 | Val Loss: 48.9844 | ROC AUC: 0.988 | PR AUC: 0.643 | MCC: 0.520\n"
     ]
    }
   ],
   "source": [
    "from weight_strategy import inverse_class_weighting\n",
    "input_dim = cath_df.shape[1]-1\n",
    "streaming = True\n",
    "\n",
    "lr = 1e-5\n",
    "if streaming==False:\n",
    "    print(\"-\"*20, \"CACHE\",\"-\"*20)\n",
    "    model = train_model(features=features, labels=labels, hidden_dim=1024, input_dim=input_dim, streaming=streaming,batch_size=128,num_epochs=30,val_split=0.1,lr=lr)\n",
    "else:\n",
    "    print(\"-\"*20, \"OTG\",\"-\"*20)\n",
    "    model = train_model(protein_df=cath_df.head(num_proteins), hidden_dim=1024, input_dim=input_dim, streaming=streaming,batch_size=128,num_epochs=30,val_split=0.1,lr=lr)"
   ]
  },
  {
   "cell_type": "code",
   "execution_count": null,
   "id": "0c22f663",
   "metadata": {},
   "outputs": [],
   "source": [
    "#Load the best model\n",
    "import torch\n",
    "from model import ProteinClassifier\n",
    "input_dim = cath_df.shape[1]-1\n",
    "# Define your model architecture (must match the saved model)\n",
    "model = ProteinClassifier(hidden_dim=64, input_dim=input_dim)\n",
    "\n",
    "# Load saved weights\n",
    "model.load_state_dict(torch.load(\"./modelData/baseline_h64_bs128_lr0.001_ep20_20250328-041027_best.pt\", map_location=\"cpu\"))\n",
    "\n",
    "# Set model to evaluation mode\n",
    "model.eval()"
   ]
  },
  {
   "cell_type": "code",
   "execution_count": 11,
   "id": "62e7861b-f8b2-409c-80f5-bc51f6055f6c",
   "metadata": {},
   "outputs": [
    {
     "name": "stdout",
     "output_type": "stream",
     "text": [
      "[INFO] Initializing Streaming Dataset from DataFrame of size 761\n",
      "[INFO] Streaming init done in 0.10 seconds\n",
      "[FINAL TEST on ECOD] Loss: 431.4965 | ROC AUC: 0.966 | PR AUC: 0.782 | MCC: 0.705\n"
     ]
    },
    {
     "data": {
      "text/plain": [
       "(431.49647467000403, 0.9660356894615169, 0.782256605396797, 0.704535367872464)"
      ]
     },
     "execution_count": 11,
     "metadata": {},
     "output_type": "execute_result"
    }
   ],
   "source": [
    "test_model_on_ecod(model, ecod_df)"
   ]
  },
  {
   "cell_type": "code",
   "execution_count": null,
   "id": "9da2382c-b21f-4d58-820b-c429907c2498",
   "metadata": {},
   "outputs": [],
   "source": []
  },
  {
   "cell_type": "code",
   "execution_count": null,
   "id": "24485cf1-87ae-4fcc-bad4-b683dda63672",
   "metadata": {},
   "outputs": [],
   "source": []
  },
  {
   "cell_type": "code",
   "execution_count": null,
   "id": "6d1e258a-f9c7-45e4-b61a-758a0f00ba12",
   "metadata": {},
   "outputs": [],
   "source": []
  },
  {
   "cell_type": "code",
   "execution_count": null,
   "id": "3923ced9-f46d-4dbf-a246-4013d2f59024",
   "metadata": {},
   "outputs": [],
   "source": [
    "import pandas as pd\n",
    "import torch\n",
    "from torch.utils.data import DataLoader\n",
    "from dataset import StreamingProteinPairDataset, StreamingProteinPairDatasetV2\n",
    "import time\n",
    "import tracemalloc  # optional: for memory profiling\n",
    "\n",
    "# Load a manageable subset for testing\n",
    "df = pd.read_csv(\"data/cath_moments.tsv\", sep='\\t', header=None).dropna(axis=1).head(1000)\n",
    "\n",
    "BATCH_SIZE = 64\n",
    "\n",
    "def profile_loader(dataset_class, name=\"\"):\n",
    "    print(f\"\\n--- Profiling {name} ---\")\n",
    "\n",
    "    # Start memory profiling\n",
    "    tracemalloc.start()\n",
    "    start = time.time_ns()\n",
    "    dataset = dataset_class(df)\n",
    "    init_time_ns = time.time_ns() - start\n",
    "    current, peak = tracemalloc.get_traced_memory()\n",
    "    tracemalloc.stop()\n",
    "\n",
    "    print(f\"[{name}] Init time: {init_time_ns / 1e6:.2f} ms\")\n",
    "    print(f\"[{name}] Peak memory usage: {peak / (1024**2):.2f} MB\")\n",
    "\n",
    "    # Profile batch loading\n",
    "    loader = DataLoader(dataset, batch_size=BATCH_SIZE, num_workers=4)\n",
    "    batch_times_ns = []\n",
    "    for i, (x, y) in enumerate(loader):\n",
    "        if i >= 5:\n",
    "            break\n",
    "        t0 = time.time_ns()\n",
    "        _ = x.shape, y.shape  # simulate some access\n",
    "        t1 = time.time_ns()\n",
    "        batch_times_ns.append(t1 - t0)\n",
    "\n",
    "    if batch_times_ns:\n",
    "        avg_batch_time_ms = sum(batch_times_ns) / len(batch_times_ns) \n",
    "        print(f\"[{name}] Avg batch load time (first 5): {avg_batch_time_ms:.2f} ms\")\n",
    "    else:\n",
    "        print(f\"[{name}] No batches loaded.\")\n",
    "\n",
    "# Run profiling for both\n",
    "profile_loader(StreamingProteinPairDataset, \"Streaming v1\")\n",
    "profile_loader(StreamingProteinPairDatasetV2, \"Streaming v2\")"
   ]
  },
  {
   "cell_type": "code",
   "execution_count": null,
   "id": "7a48d6d6",
   "metadata": {},
   "outputs": [],
   "source": []
  }
 ],
 "metadata": {
  "kernelspec": {
   "display_name": "tf_keras",
   "language": "python",
   "name": "python3"
  },
  "language_info": {
   "codemirror_mode": {
    "name": "ipython",
    "version": 3
   },
   "file_extension": ".py",
   "mimetype": "text/x-python",
   "name": "python",
   "nbconvert_exporter": "python",
   "pygments_lexer": "ipython3",
   "version": "3.12.2"
  }
 },
 "nbformat": 4,
 "nbformat_minor": 5
}
