{
 "cells": [
  {
   "cell_type": "code",
   "execution_count": null,
   "id": "d4b60959-ab54-4761-bd9b-548441698d77",
   "metadata": {},
   "outputs": [],
   "source": [
    "import numpy as np\n",
    "import pandas as pd\n",
    "import torch\n",
    "import matplotlib.pyplot as plt"
   ]
  },
  {
   "cell_type": "code",
   "execution_count": null,
   "id": "1d69f802-3e75-461f-877b-f84e66dca979",
   "metadata": {},
   "outputs": [],
   "source": [
    "# Load the dataset\n",
    "cath_df = pd.read_csv(\"./data/cath_moments.tsv\", sep='\\t', header=None) # For Train\n",
    "ecod_df = pd.read_csv(\"./data/ecod_moments.tsv\", sep='\\t', header=None) # For eval"
   ]
  },
  {
   "cell_type": "code",
   "execution_count": null,
   "id": "335379d8-ef5f-46a4-8133-cf786310f561",
   "metadata": {},
   "outputs": [],
   "source": [
    "cath_info = cath_df.info()"
   ]
  },
  {
   "cell_type": "code",
   "execution_count": null,
   "id": "24c44bd8-1b74-4d6d-9e61-33d0f52624f2",
   "metadata": {},
   "outputs": [],
   "source": [
    "ecod_info = ecod_df.info()"
   ]
  },
  {
   "cell_type": "code",
   "execution_count": null,
   "id": "034cea0c-61c7-4828-88f3-cff10785017f",
   "metadata": {},
   "outputs": [],
   "source": [
    "# Summarize shapes, classes, and a preview\n",
    "cath_summary = {\n",
    "    \"shape\": cath_df.shape,\n",
    "    \"unique_classes\": cath_df[0].nunique(),\n",
    "    \"class_distribution\": cath_df[0].value_counts(),\n",
    "    \"head\": cath_df.head()\n",
    "}\n",
    "\n",
    "ecod_summary = {\n",
    "    \"shape\": ecod_df.shape,\n",
    "    \"unique_classes\": ecod_df[0].nunique(),\n",
    "    \"class_distribution\": ecod_df[0].value_counts(),\n",
    "    \"head\": ecod_df.head()\n",
    "}"
   ]
  },
  {
   "cell_type": "code",
   "execution_count": null,
   "id": "7be048a6-a9b5-4f6f-ad00-74610b6db555",
   "metadata": {},
   "outputs": [],
   "source": [
    "print(cath_summary)"
   ]
  },
  {
   "cell_type": "code",
   "execution_count": null,
   "id": "de86ef59-6d9c-45c0-a371-baa5f02bff62",
   "metadata": {},
   "outputs": [],
   "source": [
    "print(ecod_summary)"
   ]
  },
  {
   "cell_type": "code",
   "execution_count": null,
   "id": "7f46e98a-1a83-4881-9e63-70beaa02aa8a",
   "metadata": {},
   "outputs": [],
   "source": [
    "a = [1.2,3.4,5.6],\n",
    "b = [2.4,3.2,4.5]\n",
    "\n",
    "z_ab = abs(a[i]-b[i])\n",
    "\n",
    "2*(1.2-2.4)/1+abs(1.2)+abs(2.4)\n",
    "\n",
    "Vector in the original dimenstion\n",
    "\n",
    "30 proteins \n",
    "30*29/2-> pairs of proteins"
   ]
  },
  {
   "cell_type": "code",
   "execution_count": null,
   "id": "5eb992cc-9f1c-46d7-8baf-8f29af3b2b73",
   "metadata": {},
   "outputs": [],
   "source": [
    "cath_df.iloc[0]"
   ]
  },
  {
   "cell_type": "code",
   "execution_count": null,
   "id": "d5d139e8-d1cd-4e48-ae0b-3a476f9bf731",
   "metadata": {},
   "outputs": [],
   "source": [
    "for i in range(0,2):\n",
    "    print(type(cath_df.iloc[0,i]))"
   ]
  },
  {
   "cell_type": "code",
   "execution_count": null,
   "id": "bbf19f58-1186-4d6c-8d16-aeccd8ec4882",
   "metadata": {},
   "outputs": [],
   "source": [
    "# Plot class distribution for CATH\n",
    "cath_class_counts = cath_df[0].value_counts()\n",
    "plt.figure(figsize=(12, 4))\n",
    "plt.hist(cath_class_counts, bins=30, edgecolor='black')\n",
    "plt.title('Class Frequency Distribution in CATH Dataset')\n",
    "plt.xlabel('Number of proteins per class')\n",
    "plt.ylabel('Number of classes')\n",
    "plt.grid(True)\n",
    "plt.tight_layout()\n",
    "plt.show()\n",
    "\n",
    "# Plot class distribution for ECOD\n",
    "ecod_class_counts = ecod_df[0].value_counts()\n",
    "plt.figure(figsize=(12, 4))\n",
    "plt.hist(ecod_class_counts, bins=20, edgecolor='black')\n",
    "plt.title('Class Frequency Distribution in ECOD Dataset')\n",
    "plt.xlabel('Number of proteins per class')\n",
    "plt.ylabel('Number of classes')\n",
    "plt.grid(True)\n",
    "plt.tight_layout()\n",
    "plt.show()\n"
   ]
  },
  {
   "cell_type": "markdown",
   "id": "b74b42ec-a023-45bd-8134-7b4040f6df5a",
   "metadata": {},
   "source": [
    "### Visualizing Class Imbalance\n",
    "\n",
    "Each protein in the dataset is associated with a structural class label (column 0), which identifies its 3D(1D in this case) shape category. Understanding how many proteins fall into each class is critical because the dataset is not balanced—some classes have many proteins, while others have very few.\n",
    "\n",
    "To quantify this, we use `value_counts()` to compute the frequency of each class label and visualize the distribution with a histogram.\n",
    "\n",
    "#### Why this is important:\n",
    "During training, we will create pairs of proteins to determine structural similarity. If a particular class contains many proteins, it will generate significantly more pairs, which may bias the model toward frequently occurring classes. This can lead to overfitting and poor generalization, especially on underrepresented classes.\n",
    "\n",
    "By plotting the class frequency distribution:\n",
    "- We confirm whether class imbalance is present.\n",
    "- We motivate the need for sampling strategies such as `WeightedRandomSampler` to correct for this imbalance during training.\n",
    "\n",
    "This analysis is a key step in understanding the structure of the data and informing how we design the training process.\n"
   ]
  },
  {
   "cell_type": "code",
   "execution_count": null,
   "id": "1cb5cbce-9fb8-4234-b0fd-d30b6ba80a9d",
   "metadata": {},
   "outputs": [],
   "source": [
    "import sys\n",
    "import numpy as np\n",
    "\n",
    "print(\"Python version:\", sys.version)\n",
    "print(\"NumPy version:\", np.__version__)\n"
   ]
  },
  {
   "cell_type": "code",
   "execution_count": null,
   "id": "b93b9fca-47ff-4620-b460-0211f1a3617b",
   "metadata": {},
   "outputs": [],
   "source": []
  },
  {
   "cell_type": "code",
   "execution_count": null,
   "id": "338142c3-2c98-4ee9-96f2-0d9c84d40eef",
   "metadata": {},
   "outputs": [],
   "source": []
  },
  {
   "cell_type": "code",
   "execution_count": 1,
   "id": "3f1038f8-5421-4a40-9909-f5ba99dc7d64",
   "metadata": {},
   "outputs": [
    {
     "name": "stdout",
     "output_type": "stream",
     "text": [
      "[INFO] Using 9 CPU threads\n",
      "[INFO] Using 9 CPU threads\n"
     ]
    }
   ],
   "source": [
    "import pandas as pd\n",
    "import torch\n",
    "import importlib\n",
    "import train\n",
    "import dataset\n",
    "import time\n",
    "import os\n",
    "importlib.reload(train)\n",
    "importlib.reload(dataset)\n",
    "import random\n",
    "\n",
    "random.seed(42)\n",
    "\n",
    "\n",
    "from train import train_model, test_model_on_ecod"
   ]
  },
  {
   "cell_type": "code",
   "execution_count": 2,
   "id": "e2776cb5-6d19-467e-bd45-3514d3c5f6b9",
   "metadata": {},
   "outputs": [
    {
     "name": "stdout",
     "output_type": "stream",
     "text": [
      "CATH: (2685, 3923), ECOD: (761, 3923)\n"
     ]
    }
   ],
   "source": [
    "# Load datasets\n",
    "cath_df = pd.read_csv(\"./data/cath_moments.tsv\", sep='\\t', header=None).dropna(axis=1)\n",
    "ecod_df = pd.read_csv(\"./data/ecod_moments.tsv\", sep='\\t', header=None).dropna(axis=1)\n",
    "\n",
    "print(f\"CATH: {cath_df.shape}, ECOD: {ecod_df.shape}\")\n",
    "features,labels=None,None\n"
   ]
  },
  {
   "cell_type": "code",
   "execution_count": 3,
   "id": "65844a61-6755-46bc-bf35-0b2079814701",
   "metadata": {},
   "outputs": [],
   "source": [
    "num_proteins = 2685"
   ]
  },
  {
   "cell_type": "code",
   "execution_count": null,
   "id": "91bf336f-01fc-4dd5-9fcf-3eb92b581400",
   "metadata": {
    "scrolled": true
   },
   "outputs": [],
   "source": [
    "import pandas as pd\n",
    "from cache_utils import cache_pairwise_data\n",
    "\n",
    "df = pd.read_csv(\"./data/cath_moments.tsv\", sep=\"\\t\", header=None).dropna(axis=1)\n",
    "\n",
    "\n",
    "cache_dir = \"./cache/cath_\"+str(num_proteins)\n",
    "merge_dir = cache_dir+\"/cath_merged.pkl\"\n",
    "\n",
    "# if not os.path.exists(merge_dir):\n",
    "#     cache_pairwise_data(df.head(num_proteins), cache_dir=cache_dir, buffer_limit_mb=100)"
   ]
  },
  {
   "cell_type": "code",
   "execution_count": null,
   "id": "97d59ff5-a740-48ee-b385-4e0837857e9a",
   "metadata": {},
   "outputs": [],
   "source": [
    "from cache_utils import load_cached_parts,load_and_merge_parts\n",
    "from dataset import ProteinPairDataset\n",
    "\n",
    "tic = time.time_ns()\n",
    "# Step 1: Load and merge buffered part_*.pkl files\n",
    "features, labels = load_cached_parts(cache_dir, max_threads=16)\n",
    "\n",
    "# #Parallel Load all the parts\n",
    "# features, labels = load_and_merge_parts(\n",
    "#     cache_dir=cache_dir,\n",
    "#     save_path=merge_dir, \n",
    "#     max_threads=16\n",
    "# )\n",
    "\n",
    "tac = time.time_ns()\n",
    "print(\"Loaded in \",(tac-tic)/(10**6),\"ms\")"
   ]
  },
  {
   "cell_type": "code",
   "execution_count": null,
   "id": "9d324afd",
   "metadata": {},
   "outputs": [],
   "source": [
    "from cache_utils import load_cached_parts\n",
    "\n",
    "# Load cached features/labels \n",
    "features, labels = load_cached_parts(\"./cache/cath_\"+str(num_proteins))\n",
    "\n",
    "# Check dimensions\n",
    "print(f\"[INFO] Loaded {len(features)} pairs with shape {features[0].shape}\")"
   ]
  },
  {
   "cell_type": "code",
   "execution_count": 4,
   "id": "d786dba6-8f87-42ee-9385-b46e76adb51b",
   "metadata": {},
   "outputs": [
    {
     "name": "stdout",
     "output_type": "stream",
     "text": [
      "Expected pairs: 3603270\n"
     ]
    }
   ],
   "source": [
    "print(\"Expected pairs:\",num_proteins*(num_proteins-1)//2)"
   ]
  },
  {
   "cell_type": "code",
   "execution_count": null,
   "id": "9061a230",
   "metadata": {},
   "outputs": [],
   "source": [
    "input_dim = cath_df.shape[1]-1\n",
    "streaming = True\n",
    "\n",
    "if streaming==False:\n",
    "    print(\"-\"*20, \"CACHE\",\"-\"*20)\n",
    "    model = train_model(features=features, labels=labels, hidden_dim=64, input_dim=input_dim, streaming=streaming,batch_size=128,num_epochs=20,val_split=0.1)\n",
    "else:\n",
    "    print(\"-\"*20, \"OTG\",\"-\"*20)\n",
    "    model = train_model(protein_df=cath_df.head(num_proteins), hidden_dim=64, input_dim=input_dim, streaming=streaming,batch_size=128,num_epochs=20,val_split=0.1)"
   ]
  },
  {
   "cell_type": "code",
   "execution_count": 5,
   "id": "0c22f663",
   "metadata": {},
   "outputs": [
    {
     "name": "stderr",
     "output_type": "stream",
     "text": [
      "/var/folders/vk/4clvfdvn29z3t_m4kf0z2y7c0000gn/T/ipykernel_76763/3222804511.py:9: FutureWarning: You are using `torch.load` with `weights_only=False` (the current default value), which uses the default pickle module implicitly. It is possible to construct malicious pickle data which will execute arbitrary code during unpickling (See https://github.com/pytorch/pytorch/blob/main/SECURITY.md#untrusted-models for more details). In a future release, the default value for `weights_only` will be flipped to `True`. This limits the functions that could be executed during unpickling. Arbitrary objects will no longer be allowed to be loaded via this mode unless they are explicitly allowlisted by the user via `torch.serialization.add_safe_globals`. We recommend you start setting `weights_only=True` for any use case where you don't have full control of the loaded file. Please open an issue on GitHub for any issues related to this experimental feature.\n",
      "  model.load_state_dict(torch.load(\"./modelData/baseline_h64_bs128_lr0.001_ep20_20250328-041027_best.pt\", map_location=\"cpu\"))\n"
     ]
    },
    {
     "data": {
      "text/plain": [
       "ProteinClassifier(\n",
       "  (linear1): Linear(in_features=3922, out_features=64, bias=True)\n",
       "  (relu): ReLU()\n",
       "  (linear2): Linear(in_features=64, out_features=1, bias=True)\n",
       ")"
      ]
     },
     "execution_count": 5,
     "metadata": {},
     "output_type": "execute_result"
    }
   ],
   "source": [
    "#Load the best model\n",
    "import torch\n",
    "from model import ProteinClassifier\n",
    "input_dim = cath_df.shape[1]-1\n",
    "# Define your model architecture (must match the saved model)\n",
    "model = ProteinClassifier(hidden_dim=64, input_dim=input_dim)\n",
    "\n",
    "# Load saved weights\n",
    "model.load_state_dict(torch.load(\"./modelData/baseline_h64_bs128_lr0.001_ep20_20250328-041027_best.pt\", map_location=\"cpu\"))\n",
    "\n",
    "# Set model to evaluation mode\n",
    "model.eval()"
   ]
  },
  {
   "cell_type": "code",
   "execution_count": 6,
   "id": "62e7861b-f8b2-409c-80f5-bc51f6055f6c",
   "metadata": {},
   "outputs": [
    {
     "name": "stdout",
     "output_type": "stream",
     "text": [
      "[INFO] Streaming init done in 0.01 seconds\n",
      "[FINAL TEST on ECOD] Loss: 1393.0452 | ROC AUC: 0.950 | PR AUC: 0.670 | MCC: 0.601\n"
     ]
    },
    {
     "data": {
      "text/plain": [
       "(1393.045249933036, 0.9500322503509842, 0.6697077900184016, 0.6010258640442017)"
      ]
     },
     "execution_count": 6,
     "metadata": {},
     "output_type": "execute_result"
    }
   ],
   "source": [
    "test_model_on_ecod(model, ecod_df)"
   ]
  },
  {
   "cell_type": "code",
   "execution_count": null,
   "id": "9da2382c-b21f-4d58-820b-c429907c2498",
   "metadata": {},
   "outputs": [],
   "source": []
  },
  {
   "cell_type": "code",
   "execution_count": null,
   "id": "24485cf1-87ae-4fcc-bad4-b683dda63672",
   "metadata": {},
   "outputs": [],
   "source": []
  },
  {
   "cell_type": "code",
   "execution_count": null,
   "id": "6d1e258a-f9c7-45e4-b61a-758a0f00ba12",
   "metadata": {},
   "outputs": [],
   "source": []
  },
  {
   "cell_type": "code",
   "execution_count": null,
   "id": "3923ced9-f46d-4dbf-a246-4013d2f59024",
   "metadata": {},
   "outputs": [],
   "source": []
  }
 ],
 "metadata": {
  "kernelspec": {
   "display_name": "tf_keras",
   "language": "python",
   "name": "python3"
  },
  "language_info": {
   "codemirror_mode": {
    "name": "ipython",
    "version": 3
   },
   "file_extension": ".py",
   "mimetype": "text/x-python",
   "name": "python",
   "nbconvert_exporter": "python",
   "pygments_lexer": "ipython3",
   "version": "3.12.2"
  }
 },
 "nbformat": 4,
 "nbformat_minor": 5
}
